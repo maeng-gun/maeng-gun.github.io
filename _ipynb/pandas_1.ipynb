{
 "cells": [
  {
   "cell_type": "markdown",
   "metadata": {
    "id": "32fX1wS4Ab8n"
   },
   "source": [
    "## 파이썬의 본격 시작, 판다스 \n",
    "\n",
    "\n",
    "### 파이썬에서 가장 핵심적인 데이터 분석 도구\n",
    "\n",
    "**판다스**(pandas)는 파이썬을 활용해 데이터를 다루는 프로젝트라면 어디든 빠지지 않고 등장하는 유명 라이브러리이다. \n",
    "외부 데이터의 추출과 정제, 가공, 통계분석, 시각화까지 데이터 분석에 필요한 대부분의 기능들을 가지고 있다.\n",
    "최근 빅데이터가 주목을 받으며 관련 파이썬 라이브러리들이 생겨나고 있는데, 많은 경우 판다스의 데이터 형식과 구조에 의존하고 있다.\n",
    "파이썬 기반의 데이터 분석 분야에서는 판다스가 가장 기본적이고 핵심적인 위치에 있다고 할 수 있다.\n",
    "\n",
    "### 엑셀이 답답해지는 순간, 코딩의 문이 열린다\n",
    "\n",
    "어떤 직종이든 숫자를 다뤄야하는 사무직이라면 실무의 알파이자 오메가는 엑셀 작업일 것이다. 엑셀은 우수한 데이터 분석/관리 도구임에 틀림없다. 그럼에도 엑셀은 '무겁다'. 데이터의 양이 일정 수준을 넘어가면 버벅거리고 느려지기 시작한다. 또한 데이터를 가공하고 분석하는 로직이 복잡할 수록 사용하기가 어려워진다. 수없이 시트를 만들고 셀마다 함수로 도배를 하게 된다. \n",
    "\n",
    "여기서 만약 로직이나 핵심적인 변수들이 바뀌게 되면 더 골치가 아프다. 같은 파일을 하나 더 만들어서 시트를 하나씩 열어보며 다시 가공/분석 작업을 수행해야 한다. 대용량 데이터에 대해 다양한 케이스 분석을 해야한다면 수십메가짜리 엑셀파일이 수십개씩 쌓여나가게 된다.\n",
    "\n",
    "빅데이터의 시대에 접어들면서 우리 사무직들이 다뤄야할 데이터의 양과 복잡도는 점차 늘어나게 될 것이다. 물론 소규모의 단순한 분석 수준의 반복 작업에서는 앞으로도 엑셀의 효율성을 대체하긴 어려울 것이다. 하지만 엑셀이 가끔 동작을 멈추고 vlookup과 피벗테이블로도 해결이 안되는 문제에 직면했을 때가 바로 **엑셀 대신 파이썬**을 요청해야 하는 순간이다.\n",
    "\n",
    "\n",
    "### 직장인 코딩의 첫 걸음은 판다스로부터\n",
    "\n",
    "판다스는 엑셀로 할 수 있는 거의 모든 일을 대체할 수 있다. 게다가 더 간단하고, 빠르게 작업이 가능하다. 심지어 파이썬의 다른 라이브러리들과 연계해 업무 자동화, 고급 통계분석 등으로 이어나갈 수도 있다. 실무에 직접 도움이 되는 직장인 코딩은 판다스에서부터 본격적으로 시작된다.\n",
    "\n",
    "판다스를 쓴다고 해서 엑셀을 버릴 수 있는 것은 아니다. 여전히 회사의 업무시스템은 엑셀 베이스로 데이터를 제공하고 있을 것이고, 아마도 내가 아닌 모든 동료들과의 공동작업은 엑셀로 할 수 밖에 없는 환경이다. \n",
    "\n",
    "그럴 때는 가장 날것의 데이터와 양식들만 엑셀로 남겨두고, 연산과 분석 작업을 코딩으로 수행하면 된다. 수없이 많은 보조시트와 함수들을 단 몇줄의 코드로 대체할 수 있다. 로직이 바뀌어도 해당되는 핵심코드만 바꿔 끼우면 쉽게 변용이 가능하다. 같은 작업이 매일 반복된다면 금상첨화다. 엔터 한번으로 모든 것을 자동화 할 수도 있다."
   ]
  },
  {
   "cell_type": "markdown",
   "metadata": {
    "id": "ttdHe7yVem48"
   },
   "source": [
    "## 1. 데이터프레임의 특징\n",
    "* 2차원(행과 열) 데이터를 표현하기 위한 자료형\n",
    "* 하나의 데이터프레임은 하나의 엑셀시트와 동일한데, 각 행과 열의 명칭이 별도로 붙어있다는 것이 특징\n"
   ]
  },
  {
   "cell_type": "markdown",
   "metadata": {
    "id": "EdH3vEy6eZYc"
   },
   "source": [
    "## 2. 데이터프레임의 구조\n",
    "### 1) 자료값(value) \n",
    " * 행렬 형태의 2차원 자료의 내용물\n",
    " * 행(row) : 주로 자료의 각 단위(횡단면자료는 사람/기업/국가 등, 시계열자료는 시점/기간)로 구성\n",
    " * 열(column) : 주로 자료의 각 특성(이름,금액,횟수 등)으로 구성\n",
    "\n",
    "### 2) 인덱스(index)\n",
    " * 각 행을 구분하는 명칭을 순서대로 나열한 객체로, 자료값의 좌측에 위치되\n",
    " * 인덱스를 별도로 지정하지 않으면 0,1,2,...로 이어지는 행번호를 자동 지정\n",
    " * 로우 레이블(row label)이라고도 함\n",
    "\n",
    "### 3) 컬럼명(columns)\n",
    " * 각 열을 구분하는 명칭을 순서대로 나열한 객체로, 자료값의 상단에 위치함\n",
    " * 컬럼명을 별도로 지정하지 않으면 0,1,2,...로 이어지는 열번호를 자동 지정\n",
    " * 칼럼 레이블(column label)이라고도 함\n",
    "\n",
    "  \n",
    "### 예시"
   ]
  },
  {
   "cell_type": "code",
   "execution_count": 1,
   "metadata": {
    "colab": {
     "base_uri": "https://localhost:8080/",
     "height": 142
    },
    "id": "6RoUSv1Xo1Wq",
    "outputId": "cdd48abe-caf2-49c6-b0c1-d86cba1f78c1"
   },
   "outputs": [
    {
     "data": {
      "text/html": [
       "<div>\n",
       "<style scoped>\n",
       "    .dataframe tbody tr th:only-of-type {\n",
       "        vertical-align: middle;\n",
       "    }\n",
       "\n",
       "    .dataframe tbody tr th {\n",
       "        vertical-align: top;\n",
       "    }\n",
       "\n",
       "    .dataframe thead th {\n",
       "        text-align: right;\n",
       "    }\n",
       "</style>\n",
       "<table border=\"1\" class=\"dataframe\">\n",
       "  <thead>\n",
       "    <tr style=\"text-align: right;\">\n",
       "      <th></th>\n",
       "      <th>0</th>\n",
       "      <th>1</th>\n",
       "      <th>2</th>\n",
       "    </tr>\n",
       "  </thead>\n",
       "  <tbody>\n",
       "    <tr>\n",
       "      <th>0</th>\n",
       "      <td>개</td>\n",
       "      <td>4</td>\n",
       "      <td>멍멍</td>\n",
       "    </tr>\n",
       "    <tr>\n",
       "      <th>1</th>\n",
       "      <td>닭</td>\n",
       "      <td>2</td>\n",
       "      <td>꼬꼬</td>\n",
       "    </tr>\n",
       "    <tr>\n",
       "      <th>2</th>\n",
       "      <td>벌</td>\n",
       "      <td>6</td>\n",
       "      <td>붕붕</td>\n",
       "    </tr>\n",
       "  </tbody>\n",
       "</table>\n",
       "</div>"
      ],
      "text/plain": [
       "   0  1   2\n",
       "0  개  4  멍멍\n",
       "1  닭  2  꼬꼬\n",
       "2  벌  6  붕붕"
      ]
     },
     "execution_count": 1,
     "metadata": {},
     "output_type": "execute_result"
    }
   ],
   "source": [
    "import pandas as pd           # 라이브러리 불러오기\n",
    "\n",
    "val = [['개',4,'멍멍'],       # 자료값을 변수(val)에 저장\n",
    "       ['닭',2,'꼬꼬'],\n",
    "       ['벌',6,'붕붕']]\n",
    "\n",
    "df1 = pd.DataFrame(val)       # 데이터프레임 생성 후 변수(df1)에 저장\n",
    "df1                           # 변수 df1 출력하기"
   ]
  },
  {
   "cell_type": "code",
   "execution_count": 2,
   "metadata": {
    "colab": {
     "base_uri": "https://localhost:8080/",
     "height": 142
    },
    "id": "O8Mwv1oxqHm4",
    "outputId": "3c1f9bcb-fa7a-40c2-8e50-a7923fb38661"
   },
   "outputs": [
    {
     "data": {
      "text/html": [
       "<div>\n",
       "<style scoped>\n",
       "    .dataframe tbody tr th:only-of-type {\n",
       "        vertical-align: middle;\n",
       "    }\n",
       "\n",
       "    .dataframe tbody tr th {\n",
       "        vertical-align: top;\n",
       "    }\n",
       "\n",
       "    .dataframe thead th {\n",
       "        text-align: right;\n",
       "    }\n",
       "</style>\n",
       "<table border=\"1\" class=\"dataframe\">\n",
       "  <thead>\n",
       "    <tr style=\"text-align: right;\">\n",
       "      <th></th>\n",
       "      <th>다리수</th>\n",
       "      <th>울음소리</th>\n",
       "    </tr>\n",
       "  </thead>\n",
       "  <tbody>\n",
       "    <tr>\n",
       "      <th>개</th>\n",
       "      <td>4</td>\n",
       "      <td>멍멍</td>\n",
       "    </tr>\n",
       "    <tr>\n",
       "      <th>닭</th>\n",
       "      <td>2</td>\n",
       "      <td>꼬꼬</td>\n",
       "    </tr>\n",
       "    <tr>\n",
       "      <th>벌</th>\n",
       "      <td>6</td>\n",
       "      <td>붕붕</td>\n",
       "    </tr>\n",
       "  </tbody>\n",
       "</table>\n",
       "</div>"
      ],
      "text/plain": [
       "   다리수 울음소리\n",
       "개    4   멍멍\n",
       "닭    2   꼬꼬\n",
       "벌    6   붕붕"
      ]
     },
     "execution_count": 2,
     "metadata": {},
     "output_type": "execute_result"
    }
   ],
   "source": [
    "val2 = [[4,'멍멍'],            \n",
    "       [2,'꼬꼬'],\n",
    "       [6,'붕붕']]\n",
    "id  = ['개','닭','벌']\n",
    "col = ['다리수','울음소리']\n",
    "\n",
    "df2 = pd.DataFrame(val2, index=id, columns=col)\n",
    "df2"
   ]
  },
  {
   "cell_type": "markdown",
   "metadata": {
    "id": "2g9rdEBwHS54"
   },
   "source": [
    "## 3. 데이터프레임의 생성\n",
    "\n",
    "### 1) 데이터를 직접 입력하는 경우\n",
    "\n",
    "#### a. 행 단위로 자료값 입력 (리스트 of 리스트 활용)\n",
    "* 앞선 예시 참조\n",
    "\n",
    "#### b. 열 단위로 자료값 입력 (딕셔너리 활용)"
   ]
  },
  {
   "cell_type": "code",
   "execution_count": 3,
   "metadata": {
    "colab": {
     "base_uri": "https://localhost:8080/",
     "height": 142
    },
    "id": "BWIs-o0Yf0mP",
    "outputId": "d246754c-8d5f-42ae-e67f-bb77a45daf16"
   },
   "outputs": [
    {
     "data": {
      "text/html": [
       "<div>\n",
       "<style scoped>\n",
       "    .dataframe tbody tr th:only-of-type {\n",
       "        vertical-align: middle;\n",
       "    }\n",
       "\n",
       "    .dataframe tbody tr th {\n",
       "        vertical-align: top;\n",
       "    }\n",
       "\n",
       "    .dataframe thead th {\n",
       "        text-align: right;\n",
       "    }\n",
       "</style>\n",
       "<table border=\"1\" class=\"dataframe\">\n",
       "  <thead>\n",
       "    <tr style=\"text-align: right;\">\n",
       "      <th></th>\n",
       "      <th>종류</th>\n",
       "      <th>다리수</th>\n",
       "      <th>울음소리</th>\n",
       "    </tr>\n",
       "  </thead>\n",
       "  <tbody>\n",
       "    <tr>\n",
       "      <th>0</th>\n",
       "      <td>개</td>\n",
       "      <td>4</td>\n",
       "      <td>멍멍</td>\n",
       "    </tr>\n",
       "    <tr>\n",
       "      <th>1</th>\n",
       "      <td>닭</td>\n",
       "      <td>2</td>\n",
       "      <td>꼬꼬</td>\n",
       "    </tr>\n",
       "    <tr>\n",
       "      <th>2</th>\n",
       "      <td>벌</td>\n",
       "      <td>6</td>\n",
       "      <td>붕붕</td>\n",
       "    </tr>\n",
       "  </tbody>\n",
       "</table>\n",
       "</div>"
      ],
      "text/plain": [
       "  종류  다리수 울음소리\n",
       "0  개    4   멍멍\n",
       "1  닭    2   꼬꼬\n",
       "2  벌    6   붕붕"
      ]
     },
     "execution_count": 3,
     "metadata": {},
     "output_type": "execute_result"
    }
   ],
   "source": [
    "var3 = {'종류'     : ['개','닭','벌'],\n",
    "        '다리수'   : [4,2,6],\n",
    "        '울음소리' : ['멍멍','꼬꼬','붕붕']}\n",
    "\n",
    "df3 = pd.DataFrame(var3)       # 데이터프레임 생성 후 변수(df1)에 저장\n",
    "df3"
   ]
  },
  {
   "cell_type": "markdown",
   "metadata": {
    "id": "tVKFyIZaexHi"
   },
   "source": [
    "\n",
    "\n",
    "### 2) 외부데이터를 불러오는 경우\n",
    "\n",
    "#### a. 엑셀파일 불러오기"
   ]
  },
  {
   "cell_type": "code",
   "execution_count": null,
   "metadata": {
    "colab": {
     "base_uri": "https://localhost:8080/",
     "height": 1000
    },
    "id": "IDL1WKhBhRhj",
    "outputId": "c01b228e-f4c9-416d-f431-1158810dac9b"
   },
   "outputs": [],
   "source": [
    "df4 = pd.read_excel('https://maeng-gun.github.io/pandas/raw_data_1.xlsx', thousands=',')\n",
    "df4"
   ]
  },
  {
   "cell_type": "markdown",
   "metadata": {
    "id": "ZYwuDqqOhbah"
   },
   "source": [
    "#### b. CSV 파일 불러오기"
   ]
  },
  {
   "cell_type": "code",
   "execution_count": null,
   "metadata": {
    "colab": {
     "base_uri": "https://localhost:8080/",
     "height": 1000
    },
    "id": "59JuavhWhfjg",
    "outputId": "d2380f48-b3e9-4cb5-dc8f-a7ec7a9c8da9",
    "scrolled": true
   },
   "outputs": [],
   "source": [
    "df5 = pd.read_csv('https://maeng-gun.github.io/pandas/raw_data_2.csv', thousands=',', compression='gzip')\n",
    "df5"
   ]
  },
  {
   "cell_type": "markdown",
   "metadata": {
    "id": "_4PUZy81hsl4"
   },
   "source": [
    "#### c. 클립보드에서 불러오기 (엑셀 복사 범위)\n",
    "* 로컬 환경에서만 쓸 수 있고, 구글코랩에서는 에러 발생\n",
    "* 활성화된 엑셀 시트에서 특정 범위를 직접 복사(Ctrl + C)한 뒤, 판다스 데이터프레임으로 변환하는 방식"
   ]
  },
  {
   "cell_type": "code",
   "execution_count": null,
   "metadata": {
    "colab": {
     "base_uri": "https://localhost:8080/",
     "height": 412
    },
    "id": "nP11GIRbh5K2",
    "outputId": "5411260e-7755-4d33-994e-262f68b93d46"
   },
   "outputs": [],
   "source": [
    "df6 = pd.read_clipboard(thousands=',')\n",
    "df6"
   ]
  }
 ],
 "metadata": {
  "colab": {
   "authorship_tag": "ABX9TyNpqcFsYX2c/UbXyhMjLZIw",
   "collapsed_sections": [],
   "include_colab_link": true,
   "name": "pandas_1.ipynb",
   "provenance": []
  },
  "hide_input": false,
  "kernelspec": {
   "display_name": "Python 3",
   "language": "python",
   "name": "python3"
  },
  "language_info": {
   "codemirror_mode": {
    "name": "ipython",
    "version": 3
   },
   "file_extension": ".py",
   "mimetype": "text/x-python",
   "name": "python",
   "nbconvert_exporter": "python",
   "pygments_lexer": "ipython3",
   "version": "3.8.5"
  }
 },
 "nbformat": 4,
 "nbformat_minor": 1
}
