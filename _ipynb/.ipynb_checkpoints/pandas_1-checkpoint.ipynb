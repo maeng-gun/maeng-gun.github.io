{
 "cells": [
  {
   "cell_type": "markdown",
   "metadata": {
    "id": "32fX1wS4Ab8n"
   },
   "source": [
    "# 데이터프레임(DataFrame)의 자료구조와 생성\n",
    "\n"
   ]
  },
  {
   "cell_type": "markdown",
   "metadata": {
    "id": "ttdHe7yVem48"
   },
   "source": [
    "## 1. 데이터프레임의 특징\n",
    "* 2차원(행과 열) 데이터를 표현하기 위한 자료형\n",
    "* 하나의 데이터프레임은 하나의 엑셀시트와 동일한데, 각 행과 열의 명칭이 별도로 붙어있다는 것이 특징\n"
   ]
  },
  {
   "cell_type": "markdown",
   "metadata": {
    "id": "EdH3vEy6eZYc"
   },
   "source": [
    "## 2. 데이터프레임의 구조\n",
    "### 1) 자료값(value) \n",
    " * 행렬 형태의 2차원 자료의 내용물\n",
    " * 행(row) : 주로 자료의 각 단위(횡단면자료는 사람/기업/국가 등, 시계열자료는 시점/기간)로 구성\n",
    " * 열(column) : 주로 자료의 각 특성(이름,금액,횟수 등)으로 구성\n",
    "\n",
    "### 2) 인덱스(index)\n",
    " * 각 행을 구분하는 명칭을 순서대로 나열한 객체로, 자료값의 좌측에 위치되\n",
    " * 인덱스를 별도로 지정하지 않으면 0,1,2,...로 이어지는 행번호를 자동 지정\n",
    " * 로우 레이블(row label)이라고도 함\n",
    "\n",
    "### 3) 컬럼명(columns)\n",
    " * 각 열을 구분하는 명칭을 순서대로 나열한 객체로, 자료값의 상단에 위치함\n",
    " * 컬럼명을 별도로 지정하지 않으면 0,1,2,...로 이어지는 열번호를 자동 지정\n",
    " * 칼럼 레이블(column label)이라고도 함\n",
    "\n",
    "  \n",
    "### 예시"
   ]
  },
  {
   "cell_type": "code",
   "execution_count": 1,
   "metadata": {
    "colab": {
     "base_uri": "https://localhost:8080/",
     "height": 142
    },
    "id": "6RoUSv1Xo1Wq",
    "outputId": "cdd48abe-caf2-49c6-b0c1-d86cba1f78c1"
   },
   "outputs": [
    {
     "data": {
      "text/html": [
       "<div>\n",
       "<style scoped>\n",
       "    .dataframe tbody tr th:only-of-type {\n",
       "        vertical-align: middle;\n",
       "    }\n",
       "\n",
       "    .dataframe tbody tr th {\n",
       "        vertical-align: top;\n",
       "    }\n",
       "\n",
       "    .dataframe thead th {\n",
       "        text-align: right;\n",
       "    }\n",
       "</style>\n",
       "<table border=\"1\" class=\"dataframe\">\n",
       "  <thead>\n",
       "    <tr style=\"text-align: right;\">\n",
       "      <th></th>\n",
       "      <th>0</th>\n",
       "      <th>1</th>\n",
       "      <th>2</th>\n",
       "    </tr>\n",
       "  </thead>\n",
       "  <tbody>\n",
       "    <tr>\n",
       "      <th>0</th>\n",
       "      <td>개</td>\n",
       "      <td>4</td>\n",
       "      <td>멍멍</td>\n",
       "    </tr>\n",
       "    <tr>\n",
       "      <th>1</th>\n",
       "      <td>닭</td>\n",
       "      <td>2</td>\n",
       "      <td>꼬꼬</td>\n",
       "    </tr>\n",
       "    <tr>\n",
       "      <th>2</th>\n",
       "      <td>벌</td>\n",
       "      <td>6</td>\n",
       "      <td>붕붕</td>\n",
       "    </tr>\n",
       "  </tbody>\n",
       "</table>\n",
       "</div>"
      ],
      "text/plain": [
       "   0  1   2\n",
       "0  개  4  멍멍\n",
       "1  닭  2  꼬꼬\n",
       "2  벌  6  붕붕"
      ]
     },
     "execution_count": 1,
     "metadata": {},
     "output_type": "execute_result"
    }
   ],
   "source": [
    "import pandas as pd           # 라이브러리 불러오기\n",
    "\n",
    "val = [['개',4,'멍멍'],       # 자료값을 변수(val)에 저장\n",
    "       ['닭',2,'꼬꼬'],\n",
    "       ['벌',6,'붕붕']]\n",
    "\n",
    "df1 = pd.DataFrame(val)       # 데이터프레임 생성 후 변수(df1)에 저장\n",
    "df1                           # 변수 df1 출력하기"
   ]
  },
  {
   "cell_type": "code",
   "execution_count": 2,
   "metadata": {
    "colab": {
     "base_uri": "https://localhost:8080/",
     "height": 142
    },
    "id": "O8Mwv1oxqHm4",
    "outputId": "3c1f9bcb-fa7a-40c2-8e50-a7923fb38661"
   },
   "outputs": [
    {
     "data": {
      "text/html": [
       "<div>\n",
       "<style scoped>\n",
       "    .dataframe tbody tr th:only-of-type {\n",
       "        vertical-align: middle;\n",
       "    }\n",
       "\n",
       "    .dataframe tbody tr th {\n",
       "        vertical-align: top;\n",
       "    }\n",
       "\n",
       "    .dataframe thead th {\n",
       "        text-align: right;\n",
       "    }\n",
       "</style>\n",
       "<table border=\"1\" class=\"dataframe\">\n",
       "  <thead>\n",
       "    <tr style=\"text-align: right;\">\n",
       "      <th></th>\n",
       "      <th>다리수</th>\n",
       "      <th>울음소리</th>\n",
       "    </tr>\n",
       "  </thead>\n",
       "  <tbody>\n",
       "    <tr>\n",
       "      <th>개</th>\n",
       "      <td>4</td>\n",
       "      <td>멍멍</td>\n",
       "    </tr>\n",
       "    <tr>\n",
       "      <th>닭</th>\n",
       "      <td>2</td>\n",
       "      <td>꼬꼬</td>\n",
       "    </tr>\n",
       "    <tr>\n",
       "      <th>벌</th>\n",
       "      <td>6</td>\n",
       "      <td>붕붕</td>\n",
       "    </tr>\n",
       "  </tbody>\n",
       "</table>\n",
       "</div>"
      ],
      "text/plain": [
       "   다리수 울음소리\n",
       "개    4   멍멍\n",
       "닭    2   꼬꼬\n",
       "벌    6   붕붕"
      ]
     },
     "execution_count": 2,
     "metadata": {},
     "output_type": "execute_result"
    }
   ],
   "source": [
    "val2 = [[4,'멍멍'],            \n",
    "       [2,'꼬꼬'],\n",
    "       [6,'붕붕']]\n",
    "id  = ['개','닭','벌']\n",
    "col = ['다리수','울음소리']\n",
    "\n",
    "df2 = pd.DataFrame(val2, index=id, columns=col)\n",
    "df2"
   ]
  },
  {
   "cell_type": "markdown",
   "metadata": {
    "id": "2g9rdEBwHS54"
   },
   "source": [
    "## 3. 데이터프레임의 생성\n",
    "\n",
    "### 1) 데이터를 직접 입력하는 경우\n",
    "\n",
    "#### a. 행 단위로 자료값 입력 (리스트 of 리스트 활용)\n",
    "* 앞선 예시 참조\n",
    "\n",
    "#### b. 열 단위로 자료값 입력 (딕셔너리 활용)"
   ]
  },
  {
   "cell_type": "code",
   "execution_count": 3,
   "metadata": {
    "colab": {
     "base_uri": "https://localhost:8080/",
     "height": 142
    },
    "id": "BWIs-o0Yf0mP",
    "outputId": "d246754c-8d5f-42ae-e67f-bb77a45daf16"
   },
   "outputs": [
    {
     "data": {
      "text/html": [
       "<div>\n",
       "<style scoped>\n",
       "    .dataframe tbody tr th:only-of-type {\n",
       "        vertical-align: middle;\n",
       "    }\n",
       "\n",
       "    .dataframe tbody tr th {\n",
       "        vertical-align: top;\n",
       "    }\n",
       "\n",
       "    .dataframe thead th {\n",
       "        text-align: right;\n",
       "    }\n",
       "</style>\n",
       "<table border=\"1\" class=\"dataframe\">\n",
       "  <thead>\n",
       "    <tr style=\"text-align: right;\">\n",
       "      <th></th>\n",
       "      <th>종류</th>\n",
       "      <th>다리수</th>\n",
       "      <th>울음소리</th>\n",
       "    </tr>\n",
       "  </thead>\n",
       "  <tbody>\n",
       "    <tr>\n",
       "      <th>0</th>\n",
       "      <td>개</td>\n",
       "      <td>4</td>\n",
       "      <td>멍멍</td>\n",
       "    </tr>\n",
       "    <tr>\n",
       "      <th>1</th>\n",
       "      <td>닭</td>\n",
       "      <td>2</td>\n",
       "      <td>꼬꼬</td>\n",
       "    </tr>\n",
       "    <tr>\n",
       "      <th>2</th>\n",
       "      <td>벌</td>\n",
       "      <td>6</td>\n",
       "      <td>붕붕</td>\n",
       "    </tr>\n",
       "  </tbody>\n",
       "</table>\n",
       "</div>"
      ],
      "text/plain": [
       "  종류  다리수 울음소리\n",
       "0  개    4   멍멍\n",
       "1  닭    2   꼬꼬\n",
       "2  벌    6   붕붕"
      ]
     },
     "execution_count": 3,
     "metadata": {},
     "output_type": "execute_result"
    }
   ],
   "source": [
    "var3 = {'종류'     : ['개','닭','벌'],\n",
    "        '다리수'   : [4,2,6],\n",
    "        '울음소리' : ['멍멍','꼬꼬','붕붕']}\n",
    "\n",
    "df3 = pd.DataFrame(var3)       # 데이터프레임 생성 후 변수(df1)에 저장\n",
    "df3"
   ]
  },
  {
   "cell_type": "markdown",
   "metadata": {
    "id": "tVKFyIZaexHi"
   },
   "source": [
    "\n",
    "\n",
    "### 2) 외부데이터를 불러오는 경우\n",
    "\n",
    "#### a. 엑셀파일 불러오기"
   ]
  },
  {
   "cell_type": "code",
   "execution_count": null,
   "metadata": {
    "colab": {
     "base_uri": "https://localhost:8080/",
     "height": 1000
    },
    "id": "IDL1WKhBhRhj",
    "outputId": "c01b228e-f4c9-416d-f431-1158810dac9b"
   },
   "outputs": [],
   "source": [
    "df4 = pd.read_excel('https://maeng-gun.github.io/pandas/raw_data_1.xlsx', thousands=',')\n",
    "df4"
   ]
  },
  {
   "cell_type": "markdown",
   "metadata": {
    "id": "ZYwuDqqOhbah"
   },
   "source": [
    "#### b. CSV 파일 불러오기"
   ]
  },
  {
   "cell_type": "code",
   "execution_count": null,
   "metadata": {
    "colab": {
     "base_uri": "https://localhost:8080/",
     "height": 1000
    },
    "id": "59JuavhWhfjg",
    "outputId": "d2380f48-b3e9-4cb5-dc8f-a7ec7a9c8da9",
    "scrolled": true
   },
   "outputs": [],
   "source": [
    "df5 = pd.read_csv('https://maeng-gun.github.io/pandas/raw_data_2.csv', thousands=',', compression='gzip')\n",
    "df5"
   ]
  },
  {
   "cell_type": "markdown",
   "metadata": {
    "id": "_4PUZy81hsl4"
   },
   "source": [
    "#### c. 클립보드에서 불러오기 (엑셀 복사 범위)\n",
    "* 로컬 환경에서만 쓸 수 있고, 구글코랩에서는 에러 발생\n",
    "* 활성화된 엑셀 시트에서 특정 범위를 직접 복사(Ctrl + C)한 뒤, 판다스 데이터프레임으로 변환하는 방식"
   ]
  },
  {
   "cell_type": "code",
   "execution_count": null,
   "metadata": {
    "colab": {
     "base_uri": "https://localhost:8080/",
     "height": 412
    },
    "id": "nP11GIRbh5K2",
    "outputId": "5411260e-7755-4d33-994e-262f68b93d46"
   },
   "outputs": [],
   "source": [
    "df6 = pd.read_clipboard(thousands=',')\n",
    "df6"
   ]
  }
 ],
 "metadata": {
  "colab": {
   "authorship_tag": "ABX9TyNpqcFsYX2c/UbXyhMjLZIw",
   "collapsed_sections": [],
   "include_colab_link": true,
   "name": "pandas_1.ipynb",
   "provenance": []
  },
  "hide_input": false,
  "kernelspec": {
   "display_name": "Python 3",
   "language": "python",
   "name": "python3"
  },
  "language_info": {
   "codemirror_mode": {
    "name": "ipython",
    "version": 3
   },
   "file_extension": ".py",
   "mimetype": "text/x-python",
   "name": "python",
   "nbconvert_exporter": "python",
   "pygments_lexer": "ipython3",
   "version": "3.8.5"
  }
 },
 "nbformat": 4,
 "nbformat_minor": 1
}
